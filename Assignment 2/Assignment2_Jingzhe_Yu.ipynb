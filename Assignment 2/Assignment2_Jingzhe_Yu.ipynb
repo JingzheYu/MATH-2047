{
 "cells": [
  {
   "cell_type": "code",
   "execution_count": 1,
   "metadata": {
    "ExecuteTime": {
     "end_time": "2019-10-07T15:43:58.257198Z",
     "start_time": "2019-10-07T15:43:52.779048Z"
    }
   },
   "outputs": [],
   "source": [
    "import numpy as np\n",
    "import pandas as pd\n",
    "from bqplot import pyplot as plt\n",
    "from bqplot import *\n",
    "import requests\n",
    "import re\n",
    "from bs4 import BeautifulSoup\n",
    "from tqdm import tqdm_notebook"
   ]
  },
  {
   "cell_type": "markdown",
   "metadata": {},
   "source": [
    "# Scraping"
   ]
  },
  {
   "cell_type": "code",
   "execution_count": 2,
   "metadata": {
    "ExecuteTime": {
     "end_time": "2019-10-07T15:43:58.479393Z",
     "start_time": "2019-10-07T15:43:58.259155Z"
    }
   },
   "outputs": [],
   "source": [
    "url = 'https://www.politico.com/mapdata-2016/2016-election/primary/results/map/president/'\n",
    "r = requests.get(url)\n",
    "\n",
    "r.raise_for_status()\n",
    "\n",
    "html = r.text"
   ]
  },
  {
   "cell_type": "code",
   "execution_count": 3,
   "metadata": {
    "ExecuteTime": {
     "end_time": "2019-10-07T15:43:58.952246Z",
     "start_time": "2019-10-07T15:43:58.481388Z"
    }
   },
   "outputs": [],
   "source": [
    "soup = BeautifulSoup(html, 'html.parser')"
   ]
  },
  {
   "cell_type": "markdown",
   "metadata": {},
   "source": [
    "All useful data are included in `<article>`:"
   ]
  },
  {
   "cell_type": "code",
   "execution_count": 4,
   "metadata": {
    "ExecuteTime": {
     "end_time": "2019-10-07T15:43:59.005031Z",
     "start_time": "2019-10-07T15:43:58.954167Z"
    }
   },
   "outputs": [],
   "source": [
    "articles = soup.find_all('article',attrs={'class':'timeline-group'})"
   ]
  },
  {
   "cell_type": "markdown",
   "metadata": {},
   "source": [
    "Run a for loop to store the information for each state:"
   ]
  },
  {
   "cell_type": "code",
   "execution_count": 5,
   "metadata": {
    "ExecuteTime": {
     "end_time": "2019-10-07T15:44:01.169849Z",
     "start_time": "2019-10-07T15:43:59.007026Z"
    },
    "scrolled": false
   },
   "outputs": [
    {
     "data": {
      "application/vnd.jupyter.widget-view+json": {
       "model_id": "8f4d800a64434062bb1bc60112f69efc",
       "version_major": 2,
       "version_minor": 0
      },
      "text/plain": [
       "HBox(children=(IntProgress(value=0, max=51), HTML(value='')))"
      ]
     },
     "metadata": {},
     "output_type": "display_data"
    },
    {
     "name": "stdout",
     "output_type": "stream",
     "text": [
      "\n"
     ]
    }
   ],
   "source": [
    "df_results = pd.DataFrame(columns=['electiontype', 'state', 'date',\n",
    "                                   'party', 'candidate', 'votes', '%votes', 'delegates'])\n",
    "for article in tqdm_notebook(articles):\n",
    "    # parsing for election type\n",
    "    election_type = article.find('h4').get_text().split()[1][:-1]\n",
    "    election_type = election_type.replace('Primaries', 'Primary')\n",
    "    election_type = election_type.replace('Caucuses', 'Caucus')\n",
    "    election_type = 'Primary' if election_type == 'Primaries' else election_type\n",
    "    # parsing for state name\n",
    "    state = article.find('h3').get_text().strip()\n",
    "    # parsing for election date\n",
    "    election_date = article.find('p').get_text().strip()\n",
    "    # parsing for info of each party\n",
    "    parties = article.find_all('h5')\n",
    "    for i in range(len(parties)):\n",
    "        party_name = parties[i].get_text()\n",
    "        party_dict = {'Democratic': 'type-democrat',\n",
    "                      'Republican': 'type-republican'}\n",
    "        tr = article.find_all('tr', attrs={'class': party_dict[party_name]})\n",
    "        for cand in tr:\n",
    "            cand_name = cand.find(\n",
    "                'th', attrs={'class': 'results-name'}).get_text()\n",
    "            cand_name = cand_name.replace('Winner ', '')\n",
    "            percentage = cand.find(\n",
    "                'td', attrs={'class': 'results-percentage'}).get_text()\n",
    "            votes = cand.find(\n",
    "                'td', attrs={'class': 'results-popular'}).get_text()\n",
    "            # convert string to int\n",
    "            votes = int(votes.replace(',',''))\n",
    "            # if no delegates, return nan\n",
    "            try:\n",
    "                delegates = cand.find(\n",
    "                    'td', attrs={'class': 'delegates-cell'}).get_text()\n",
    "            except:\n",
    "                delegates = np.nan\n",
    "            df_results = df_results.append({\n",
    "                'electiontype': election_type,\n",
    "                'state': state,\n",
    "                'date': election_date,\n",
    "                'party': party_name,\n",
    "                'candidate': cand_name,\n",
    "                'votes': votes,\n",
    "                '%votes': percentage,\n",
    "                'delegates': delegates\n",
    "            }, ignore_index=True)"
   ]
  },
  {
   "cell_type": "code",
   "execution_count": 6,
   "metadata": {
    "ExecuteTime": {
     "end_time": "2019-10-07T15:44:01.312293Z",
     "start_time": "2019-10-07T15:44:01.171844Z"
    }
   },
   "outputs": [],
   "source": [
    "df_results = df_results.set_index(['electiontype','state','date','party']).sort_index()\n",
    "\n",
    "df_results.to_pickle('df_results.pkl')"
   ]
  },
  {
   "cell_type": "code",
   "execution_count": 7,
   "metadata": {
    "ExecuteTime": {
     "end_time": "2019-10-07T15:44:01.343207Z",
     "start_time": "2019-10-07T15:44:01.315283Z"
    }
   },
   "outputs": [
    {
     "data": {
      "text/html": [
       "<div>\n",
       "<style scoped>\n",
       "    .dataframe tbody tr th:only-of-type {\n",
       "        vertical-align: middle;\n",
       "    }\n",
       "\n",
       "    .dataframe tbody tr th {\n",
       "        vertical-align: top;\n",
       "    }\n",
       "\n",
       "    .dataframe thead th {\n",
       "        text-align: right;\n",
       "    }\n",
       "</style>\n",
       "<table border=\"1\" class=\"dataframe\">\n",
       "  <thead>\n",
       "    <tr style=\"text-align: right;\">\n",
       "      <th></th>\n",
       "      <th></th>\n",
       "      <th></th>\n",
       "      <th></th>\n",
       "      <th>candidate</th>\n",
       "      <th>votes</th>\n",
       "      <th>%votes</th>\n",
       "      <th>delegates</th>\n",
       "    </tr>\n",
       "    <tr>\n",
       "      <th>electiontype</th>\n",
       "      <th>state</th>\n",
       "      <th>date</th>\n",
       "      <th>party</th>\n",
       "      <th></th>\n",
       "      <th></th>\n",
       "      <th></th>\n",
       "      <th></th>\n",
       "    </tr>\n",
       "  </thead>\n",
       "  <tbody>\n",
       "    <tr>\n",
       "      <th rowspan=\"5\" valign=\"top\">Caucus</th>\n",
       "      <th rowspan=\"5\" valign=\"top\">Alaska</th>\n",
       "      <th rowspan=\"5\" valign=\"top\">March 1, 2016</th>\n",
       "      <th>Democratic</th>\n",
       "      <td>B. Sanders</td>\n",
       "      <td>440</td>\n",
       "      <td>81.6%</td>\n",
       "      <td>14</td>\n",
       "    </tr>\n",
       "    <tr>\n",
       "      <th>Democratic</th>\n",
       "      <td>H. Clinton</td>\n",
       "      <td>99</td>\n",
       "      <td>18.4%</td>\n",
       "      <td>4</td>\n",
       "    </tr>\n",
       "    <tr>\n",
       "      <th>Democratic</th>\n",
       "      <td>R. De La Fuente</td>\n",
       "      <td>0</td>\n",
       "      <td>0.0%</td>\n",
       "      <td></td>\n",
       "    </tr>\n",
       "    <tr>\n",
       "      <th>Democratic</th>\n",
       "      <td>Uncommitted</td>\n",
       "      <td>0</td>\n",
       "      <td>0.0%</td>\n",
       "      <td>2</td>\n",
       "    </tr>\n",
       "    <tr>\n",
       "      <th>Republican</th>\n",
       "      <td>T. Cruz</td>\n",
       "      <td>7973</td>\n",
       "      <td>36.4%</td>\n",
       "      <td>12</td>\n",
       "    </tr>\n",
       "  </tbody>\n",
       "</table>\n",
       "</div>"
      ],
      "text/plain": [
       "                                                     candidate votes %votes  \\\n",
       "electiontype state  date          party                                       \n",
       "Caucus       Alaska March 1, 2016 Democratic        B. Sanders   440  81.6%   \n",
       "                                  Democratic        H. Clinton    99  18.4%   \n",
       "                                  Democratic   R. De La Fuente     0   0.0%   \n",
       "                                  Democratic       Uncommitted     0   0.0%   \n",
       "                                  Republican           T. Cruz  7973  36.4%   \n",
       "\n",
       "                                             delegates  \n",
       "electiontype state  date          party                 \n",
       "Caucus       Alaska March 1, 2016 Democratic        14  \n",
       "                                  Democratic         4  \n",
       "                                  Democratic            \n",
       "                                  Democratic         2  \n",
       "                                  Republican        12  "
      ]
     },
     "execution_count": 7,
     "metadata": {},
     "output_type": "execute_result"
    }
   ],
   "source": [
    "df_results.head()"
   ]
  },
  {
   "cell_type": "markdown",
   "metadata": {},
   "source": [
    "# Visualization"
   ]
  },
  {
   "cell_type": "code",
   "execution_count": 8,
   "metadata": {
    "ExecuteTime": {
     "end_time": "2019-10-07T15:44:01.351195Z",
     "start_time": "2019-10-07T15:44:01.344205Z"
    }
   },
   "outputs": [],
   "source": [
    "# Extract data for each party, only including Primary data\n",
    "idx = pd.IndexSlice\n",
    "dem_df = df_results.loc[idx['Primary',:,:,'Democratic']]\n",
    "gop_df = df_results.loc[idx['Primary',:,:,'Republican']]"
   ]
  },
  {
   "cell_type": "code",
   "execution_count": 9,
   "metadata": {
    "ExecuteTime": {
     "end_time": "2019-10-07T15:44:01.395524Z",
     "start_time": "2019-10-07T15:44:01.356172Z"
    }
   },
   "outputs": [],
   "source": [
    "# load the data which connects state FIPS and name\n",
    "codes = pd.read_csv('state_codes.csv')"
   ]
  },
  {
   "cell_type": "markdown",
   "metadata": {},
   "source": [
    "## GOP"
   ]
  },
  {
   "cell_type": "markdown",
   "metadata": {},
   "source": [
    "Obtain the winner for each state:"
   ]
  },
  {
   "cell_type": "code",
   "execution_count": 10,
   "metadata": {
    "ExecuteTime": {
     "end_time": "2019-10-07T15:44:01.446388Z",
     "start_time": "2019-10-07T15:44:01.398516Z"
    }
   },
   "outputs": [
    {
     "data": {
      "text/html": [
       "<div>\n",
       "<style scoped>\n",
       "    .dataframe tbody tr th:only-of-type {\n",
       "        vertical-align: middle;\n",
       "    }\n",
       "\n",
       "    .dataframe tbody tr th {\n",
       "        vertical-align: top;\n",
       "    }\n",
       "\n",
       "    .dataframe thead th {\n",
       "        text-align: right;\n",
       "    }\n",
       "</style>\n",
       "<table border=\"1\" class=\"dataframe\">\n",
       "  <thead>\n",
       "    <tr style=\"text-align: right;\">\n",
       "      <th></th>\n",
       "      <th>FIPS</th>\n",
       "      <th>USPS</th>\n",
       "      <th>winner</th>\n",
       "    </tr>\n",
       "    <tr>\n",
       "      <th>Name</th>\n",
       "      <th></th>\n",
       "      <th></th>\n",
       "      <th></th>\n",
       "    </tr>\n",
       "  </thead>\n",
       "  <tbody>\n",
       "    <tr>\n",
       "      <th>Alabama</th>\n",
       "      <td>1</td>\n",
       "      <td>AL</td>\n",
       "      <td>D. Trump</td>\n",
       "    </tr>\n",
       "    <tr>\n",
       "      <th>Alaska</th>\n",
       "      <td>2</td>\n",
       "      <td>AK</td>\n",
       "      <td>NaN</td>\n",
       "    </tr>\n",
       "    <tr>\n",
       "      <th>Arizona</th>\n",
       "      <td>4</td>\n",
       "      <td>AZ</td>\n",
       "      <td>D. Trump</td>\n",
       "    </tr>\n",
       "    <tr>\n",
       "      <th>Arkansas</th>\n",
       "      <td>5</td>\n",
       "      <td>AR</td>\n",
       "      <td>D. Trump</td>\n",
       "    </tr>\n",
       "    <tr>\n",
       "      <th>California</th>\n",
       "      <td>6</td>\n",
       "      <td>CA</td>\n",
       "      <td>D. Trump</td>\n",
       "    </tr>\n",
       "  </tbody>\n",
       "</table>\n",
       "</div>"
      ],
      "text/plain": [
       "            FIPS USPS     winner\n",
       "Name                            \n",
       "Alabama        1   AL   D. Trump\n",
       "Alaska         2   AK        NaN\n",
       "Arizona        4   AZ   D. Trump\n",
       "Arkansas       5   AR   D. Trump\n",
       "California     6   CA   D. Trump"
      ]
     },
     "execution_count": 10,
     "metadata": {},
     "output_type": "execute_result"
    }
   ],
   "source": [
    "gop_winner = gop_df.groupby(level=1).apply(lambda x:x.sort_values('votes',ascending=False).iloc[0]['candidate'])\n",
    "\n",
    "gop_winner.name='winner'\n",
    "\n",
    "gop_winner = codes.set_index('Name').join(gop_winner)\n",
    "\n",
    "gop_winner.head()"
   ]
  },
  {
   "cell_type": "code",
   "execution_count": 11,
   "metadata": {
    "ExecuteTime": {
     "end_time": "2019-10-07T15:44:01.476308Z",
     "start_time": "2019-10-07T15:44:01.448383Z"
    }
   },
   "outputs": [],
   "source": [
    "x_ord = OrdinalScale()\n",
    "y_sc = LinearScale()\n",
    "\n",
    "bar_gop = Bars(scales={'x': x_ord, 'y': y_sc},\n",
    "           orientation='horizontal',colors=['#00CC00'])\n",
    "label_gop = Label(scales={'x': y_sc, 'y': x_ord}, colors=['#000000'], update_on_move=True)\n",
    "ax_x_gop = Axis(scale=x_ord, orientation='vertical')\n",
    "ax_y_gop = Axis(scale=y_sc,label='# Votes')\n",
    "\n",
    "bar_fig_gop = Figure(marks=[bar_gop, label_gop], axes=[ax_x_gop, ax_y_gop], padding_x=0.025, padding_y=0.025,\n",
    "                title='General Election - State Polls')"
   ]
  },
  {
   "cell_type": "code",
   "execution_count": 12,
   "metadata": {
    "ExecuteTime": {
     "end_time": "2019-10-07T15:44:01.513212Z",
     "start_time": "2019-10-07T15:44:01.478303Z"
    }
   },
   "outputs": [],
   "source": [
    "gop_fips_result = gop_df.reset_index(level=1).merge(codes, left_on='state', right_on='Name')[['FIPS','candidate','votes']]\n",
    "\n",
    "def hover_callback_gop(name, value):\n",
    "    state_code = value['data']['id']\n",
    "    bar_fig_gop.title = codes.set_index('FIPS').loc[state_code,'Name']\n",
    "    if state_code not in gop_winner['FIPS'].values:\n",
    "        return\n",
    "    x = gop_fips_result[gop_fips_result['FIPS']==state_code].sort_values(by='votes')[\n",
    "        'candidate'].values\n",
    "    y = gop_fips_result[gop_fips_result['FIPS']==state_code].sort_values(by='votes')[\n",
    "        'votes'].values\n",
    "    bar_gop.x, bar_gop.y = x, y\n",
    "    label_gop.x, label_gop.y, label_gop.text = np.zeros(len(x)), x, y"
   ]
  },
  {
   "cell_type": "code",
   "execution_count": 13,
   "metadata": {
    "ExecuteTime": {
     "end_time": "2019-10-07T15:44:01.930000Z",
     "start_time": "2019-10-07T15:44:01.516204Z"
    },
    "cell_style": "center"
   },
   "outputs": [
    {
     "data": {
      "application/vnd.jupyter.widget-view+json": {
       "model_id": "784e4add5baa406ea81ea78a033d24fe",
       "version_major": 2,
       "version_minor": 0
      },
      "text/plain": [
       "Figure(axes=[ColorAxis(scale=OrdinalColorScale(colors=['#d65454', '#eabc3b', '#3ca0a0'], domain=['D. Trump', '…"
      ]
     },
     "metadata": {},
     "output_type": "display_data"
    }
   ],
   "source": [
    "sc_geo_gop = AlbersUSA(scale_factor=1000)\n",
    "color_gop = OrdinalColorScale(domain=['D. Trump', 'T. Cruz', 'J. Kasich'], colors=[\n",
    "                              '#d65454', '#eabc3b', '#3ca0a0'])\n",
    "\n",
    "map_styles_gop = {'color': dict(zip(gop_winner['FIPS'], gop_winner['winner'])),\n",
    "              'scales': {'projection': sc_geo_gop, 'color': color_gop}, 'colors': {'default_color': '#E2E2E2'}}\n",
    "axis_gop = ColorAxis(scale=color_gop)\n",
    "\n",
    "states_map_gop = Map(map_data=topo_load(\n",
    "    'map_data/USStatesMap.json'), tooltip=bar_fig_gop, **map_styles_gop)\n",
    "map_fig_gop = Figure(marks=[states_map_gop], axes=[axis_gop],\n",
    "                     title='Election Polls - Republican')\n",
    "states_map_gop.on_hover(hover_callback_gop)\n",
    "map_fig_gop"
   ]
  },
  {
   "cell_type": "markdown",
   "metadata": {},
   "source": [
    "## DEM"
   ]
  },
  {
   "cell_type": "code",
   "execution_count": 14,
   "metadata": {
    "ExecuteTime": {
     "end_time": "2019-10-07T15:44:02.000810Z",
     "start_time": "2019-10-07T15:44:01.960916Z"
    }
   },
   "outputs": [],
   "source": [
    "dem_winner = dem_df.groupby(level=1).apply(lambda x:x.sort_values('votes',ascending=False).iloc[0]['candidate'])\n",
    "\n",
    "dem_winner.name='winner'\n",
    "\n",
    "dem_winner = codes.set_index('Name').join(dem_winner)"
   ]
  },
  {
   "cell_type": "code",
   "execution_count": 15,
   "metadata": {
    "ExecuteTime": {
     "end_time": "2019-10-07T15:44:02.029737Z",
     "start_time": "2019-10-07T15:44:02.002806Z"
    }
   },
   "outputs": [],
   "source": [
    "x_ord = OrdinalScale()\n",
    "y_sc = LinearScale()\n",
    "\n",
    "bar_dem = Bars(scales={'x': x_ord, 'y': y_sc},\n",
    "           orientation='horizontal',colors=['#00CC00'])\n",
    "label_dem = Label(scales={'x': y_sc, 'y': x_ord}, colors=['#000000'], update_on_move=True)\n",
    "ax_x_dem = Axis(scale=x_ord, orientation='vertical')\n",
    "ax_y_dem = Axis(scale=y_sc,label='# Votes')\n",
    "\n",
    "bar_fig_dem = Figure(marks=[bar_dem, label_dem], axes=[ax_x_dem, ax_y_dem], padding_x=0.025, padding_y=0.025,\n",
    "                title='General Election - State Polls')"
   ]
  },
  {
   "cell_type": "code",
   "execution_count": 16,
   "metadata": {
    "ExecuteTime": {
     "end_time": "2019-10-07T15:44:02.040719Z",
     "start_time": "2019-10-07T15:44:02.031728Z"
    }
   },
   "outputs": [
    {
     "data": {
      "application/vnd.jupyter.widget-view+json": {
       "model_id": "5d7eee114875478b95aacf08047c1a2b",
       "version_major": 2,
       "version_minor": 0
      },
      "text/plain": [
       "Figure(axes=[Axis(orientation='vertical', scale=OrdinalScale()), Axis(label='# Votes', scale=LinearScale())], …"
      ]
     },
     "metadata": {},
     "output_type": "display_data"
    }
   ],
   "source": [
    "bar_fig_dem"
   ]
  },
  {
   "cell_type": "code",
   "execution_count": 17,
   "metadata": {
    "ExecuteTime": {
     "end_time": "2019-10-07T15:44:02.053669Z",
     "start_time": "2019-10-07T15:44:02.041701Z"
    }
   },
   "outputs": [],
   "source": [
    "dem_fips_result = dem_df.reset_index(level=1).merge(codes, left_on='state', right_on='Name')[['FIPS','candidate','votes']]\n",
    "\n",
    "def hover_callback_dem(name, value):\n",
    "    state_code = value['data']['id']\n",
    "    bar_fig_dem.title = codes.set_index('FIPS').loc[state_code,'Name']\n",
    "    if state_code not in dem_winner['FIPS'].values:\n",
    "        return\n",
    "    x = dem_fips_result[dem_fips_result['FIPS']==state_code].sort_values(by='votes')[\n",
    "        'candidate'].values\n",
    "    y = dem_fips_result[dem_fips_result['FIPS']==state_code].sort_values(by='votes')[\n",
    "        'votes'].values\n",
    "    bar_dem.x, bar_dem.y = x, y\n",
    "    label_dem.x, label_dem.y, label_dem.text = np.zeros(len(x)), x, y"
   ]
  },
  {
   "cell_type": "code",
   "execution_count": 18,
   "metadata": {
    "ExecuteTime": {
     "end_time": "2019-10-07T15:44:02.097551Z",
     "start_time": "2019-10-07T15:44:02.055663Z"
    }
   },
   "outputs": [
    {
     "data": {
      "text/html": [
       "<div>\n",
       "<style scoped>\n",
       "    .dataframe tbody tr th:only-of-type {\n",
       "        vertical-align: middle;\n",
       "    }\n",
       "\n",
       "    .dataframe tbody tr th {\n",
       "        vertical-align: top;\n",
       "    }\n",
       "\n",
       "    .dataframe thead th {\n",
       "        text-align: right;\n",
       "    }\n",
       "</style>\n",
       "<table border=\"1\" class=\"dataframe\">\n",
       "  <thead>\n",
       "    <tr style=\"text-align: right;\">\n",
       "      <th></th>\n",
       "      <th>FIPS</th>\n",
       "      <th>USPS</th>\n",
       "      <th>winner</th>\n",
       "    </tr>\n",
       "    <tr>\n",
       "      <th>Name</th>\n",
       "      <th></th>\n",
       "      <th></th>\n",
       "      <th></th>\n",
       "    </tr>\n",
       "  </thead>\n",
       "  <tbody>\n",
       "    <tr>\n",
       "      <th>Alabama</th>\n",
       "      <td>1</td>\n",
       "      <td>AL</td>\n",
       "      <td>H. Clinton</td>\n",
       "    </tr>\n",
       "    <tr>\n",
       "      <th>Alaska</th>\n",
       "      <td>2</td>\n",
       "      <td>AK</td>\n",
       "      <td>NaN</td>\n",
       "    </tr>\n",
       "    <tr>\n",
       "      <th>Arizona</th>\n",
       "      <td>4</td>\n",
       "      <td>AZ</td>\n",
       "      <td>H. Clinton</td>\n",
       "    </tr>\n",
       "    <tr>\n",
       "      <th>Arkansas</th>\n",
       "      <td>5</td>\n",
       "      <td>AR</td>\n",
       "      <td>H. Clinton</td>\n",
       "    </tr>\n",
       "    <tr>\n",
       "      <th>California</th>\n",
       "      <td>6</td>\n",
       "      <td>CA</td>\n",
       "      <td>H. Clinton</td>\n",
       "    </tr>\n",
       "    <tr>\n",
       "      <th>Colorado</th>\n",
       "      <td>8</td>\n",
       "      <td>CO</td>\n",
       "      <td>NaN</td>\n",
       "    </tr>\n",
       "    <tr>\n",
       "      <th>Connecticut</th>\n",
       "      <td>9</td>\n",
       "      <td>CT</td>\n",
       "      <td>H. Clinton</td>\n",
       "    </tr>\n",
       "    <tr>\n",
       "      <th>Delaware</th>\n",
       "      <td>10</td>\n",
       "      <td>DE</td>\n",
       "      <td>H. Clinton</td>\n",
       "    </tr>\n",
       "    <tr>\n",
       "      <th>District of Columbia</th>\n",
       "      <td>11</td>\n",
       "      <td>DC</td>\n",
       "      <td>NaN</td>\n",
       "    </tr>\n",
       "    <tr>\n",
       "      <th>Florida</th>\n",
       "      <td>12</td>\n",
       "      <td>FL</td>\n",
       "      <td>H. Clinton</td>\n",
       "    </tr>\n",
       "    <tr>\n",
       "      <th>Georgia</th>\n",
       "      <td>13</td>\n",
       "      <td>GA</td>\n",
       "      <td>H. Clinton</td>\n",
       "    </tr>\n",
       "    <tr>\n",
       "      <th>Hawaii</th>\n",
       "      <td>15</td>\n",
       "      <td>HI</td>\n",
       "      <td>NaN</td>\n",
       "    </tr>\n",
       "    <tr>\n",
       "      <th>Idaho</th>\n",
       "      <td>16</td>\n",
       "      <td>ID</td>\n",
       "      <td>NaN</td>\n",
       "    </tr>\n",
       "    <tr>\n",
       "      <th>Illinois</th>\n",
       "      <td>17</td>\n",
       "      <td>IL</td>\n",
       "      <td>H. Clinton</td>\n",
       "    </tr>\n",
       "    <tr>\n",
       "      <th>Indiana</th>\n",
       "      <td>18</td>\n",
       "      <td>IN</td>\n",
       "      <td>B. Sanders</td>\n",
       "    </tr>\n",
       "    <tr>\n",
       "      <th>Iowa</th>\n",
       "      <td>19</td>\n",
       "      <td>IA</td>\n",
       "      <td>NaN</td>\n",
       "    </tr>\n",
       "    <tr>\n",
       "      <th>Kansas</th>\n",
       "      <td>20</td>\n",
       "      <td>KS</td>\n",
       "      <td>NaN</td>\n",
       "    </tr>\n",
       "    <tr>\n",
       "      <th>Kentucky</th>\n",
       "      <td>21</td>\n",
       "      <td>KY</td>\n",
       "      <td>NaN</td>\n",
       "    </tr>\n",
       "    <tr>\n",
       "      <th>Louisiana</th>\n",
       "      <td>22</td>\n",
       "      <td>LA</td>\n",
       "      <td>H. Clinton</td>\n",
       "    </tr>\n",
       "    <tr>\n",
       "      <th>Maine</th>\n",
       "      <td>23</td>\n",
       "      <td>ME</td>\n",
       "      <td>NaN</td>\n",
       "    </tr>\n",
       "    <tr>\n",
       "      <th>Maryland</th>\n",
       "      <td>24</td>\n",
       "      <td>MD</td>\n",
       "      <td>H. Clinton</td>\n",
       "    </tr>\n",
       "    <tr>\n",
       "      <th>Massachusetts</th>\n",
       "      <td>25</td>\n",
       "      <td>MA</td>\n",
       "      <td>H. Clinton</td>\n",
       "    </tr>\n",
       "    <tr>\n",
       "      <th>Michigan</th>\n",
       "      <td>26</td>\n",
       "      <td>MI</td>\n",
       "      <td>B. Sanders</td>\n",
       "    </tr>\n",
       "    <tr>\n",
       "      <th>Minnesota</th>\n",
       "      <td>27</td>\n",
       "      <td>MN</td>\n",
       "      <td>NaN</td>\n",
       "    </tr>\n",
       "    <tr>\n",
       "      <th>Mississippi</th>\n",
       "      <td>28</td>\n",
       "      <td>MS</td>\n",
       "      <td>H. Clinton</td>\n",
       "    </tr>\n",
       "    <tr>\n",
       "      <th>Missouri</th>\n",
       "      <td>29</td>\n",
       "      <td>MO</td>\n",
       "      <td>H. Clinton</td>\n",
       "    </tr>\n",
       "    <tr>\n",
       "      <th>Montana</th>\n",
       "      <td>30</td>\n",
       "      <td>MT</td>\n",
       "      <td>B. Sanders</td>\n",
       "    </tr>\n",
       "    <tr>\n",
       "      <th>Nebraska</th>\n",
       "      <td>31</td>\n",
       "      <td>NE</td>\n",
       "      <td>NaN</td>\n",
       "    </tr>\n",
       "    <tr>\n",
       "      <th>Nevada</th>\n",
       "      <td>32</td>\n",
       "      <td>NV</td>\n",
       "      <td>NaN</td>\n",
       "    </tr>\n",
       "    <tr>\n",
       "      <th>New Hampshire</th>\n",
       "      <td>33</td>\n",
       "      <td>NH</td>\n",
       "      <td>B. Sanders</td>\n",
       "    </tr>\n",
       "    <tr>\n",
       "      <th>New Jersey</th>\n",
       "      <td>34</td>\n",
       "      <td>NJ</td>\n",
       "      <td>H. Clinton</td>\n",
       "    </tr>\n",
       "    <tr>\n",
       "      <th>New Mexico</th>\n",
       "      <td>35</td>\n",
       "      <td>NM</td>\n",
       "      <td>H. Clinton</td>\n",
       "    </tr>\n",
       "    <tr>\n",
       "      <th>New York</th>\n",
       "      <td>36</td>\n",
       "      <td>NY</td>\n",
       "      <td>H. Clinton</td>\n",
       "    </tr>\n",
       "    <tr>\n",
       "      <th>North Carolina</th>\n",
       "      <td>37</td>\n",
       "      <td>NC</td>\n",
       "      <td>H. Clinton</td>\n",
       "    </tr>\n",
       "    <tr>\n",
       "      <th>North Dakota</th>\n",
       "      <td>38</td>\n",
       "      <td>ND</td>\n",
       "      <td>NaN</td>\n",
       "    </tr>\n",
       "    <tr>\n",
       "      <th>Ohio</th>\n",
       "      <td>39</td>\n",
       "      <td>OH</td>\n",
       "      <td>H. Clinton</td>\n",
       "    </tr>\n",
       "    <tr>\n",
       "      <th>Oklahoma</th>\n",
       "      <td>40</td>\n",
       "      <td>OK</td>\n",
       "      <td>B. Sanders</td>\n",
       "    </tr>\n",
       "    <tr>\n",
       "      <th>Oregon</th>\n",
       "      <td>41</td>\n",
       "      <td>OR</td>\n",
       "      <td>B. Sanders</td>\n",
       "    </tr>\n",
       "    <tr>\n",
       "      <th>Pennsylvania</th>\n",
       "      <td>42</td>\n",
       "      <td>PA</td>\n",
       "      <td>H. Clinton</td>\n",
       "    </tr>\n",
       "    <tr>\n",
       "      <th>Rhode Island</th>\n",
       "      <td>44</td>\n",
       "      <td>RI</td>\n",
       "      <td>B. Sanders</td>\n",
       "    </tr>\n",
       "    <tr>\n",
       "      <th>South Carolina</th>\n",
       "      <td>45</td>\n",
       "      <td>SC</td>\n",
       "      <td>H. Clinton</td>\n",
       "    </tr>\n",
       "    <tr>\n",
       "      <th>South Dakota</th>\n",
       "      <td>46</td>\n",
       "      <td>SD</td>\n",
       "      <td>H. Clinton</td>\n",
       "    </tr>\n",
       "    <tr>\n",
       "      <th>Tennessee</th>\n",
       "      <td>47</td>\n",
       "      <td>TN</td>\n",
       "      <td>H. Clinton</td>\n",
       "    </tr>\n",
       "    <tr>\n",
       "      <th>Texas</th>\n",
       "      <td>48</td>\n",
       "      <td>TX</td>\n",
       "      <td>H. Clinton</td>\n",
       "    </tr>\n",
       "    <tr>\n",
       "      <th>Utah</th>\n",
       "      <td>49</td>\n",
       "      <td>UT</td>\n",
       "      <td>NaN</td>\n",
       "    </tr>\n",
       "    <tr>\n",
       "      <th>Vermont</th>\n",
       "      <td>50</td>\n",
       "      <td>VT</td>\n",
       "      <td>B. Sanders</td>\n",
       "    </tr>\n",
       "    <tr>\n",
       "      <th>Virginia</th>\n",
       "      <td>51</td>\n",
       "      <td>VA</td>\n",
       "      <td>H. Clinton</td>\n",
       "    </tr>\n",
       "    <tr>\n",
       "      <th>Washington</th>\n",
       "      <td>53</td>\n",
       "      <td>WA</td>\n",
       "      <td>NaN</td>\n",
       "    </tr>\n",
       "    <tr>\n",
       "      <th>West Virginia</th>\n",
       "      <td>54</td>\n",
       "      <td>WV</td>\n",
       "      <td>B. Sanders</td>\n",
       "    </tr>\n",
       "    <tr>\n",
       "      <th>Wisconsin</th>\n",
       "      <td>55</td>\n",
       "      <td>WI</td>\n",
       "      <td>B. Sanders</td>\n",
       "    </tr>\n",
       "    <tr>\n",
       "      <th>Wyoming</th>\n",
       "      <td>56</td>\n",
       "      <td>WY</td>\n",
       "      <td>NaN</td>\n",
       "    </tr>\n",
       "  </tbody>\n",
       "</table>\n",
       "</div>"
      ],
      "text/plain": [
       "                      FIPS USPS       winner\n",
       "Name                                        \n",
       "Alabama                  1   AL   H. Clinton\n",
       "Alaska                   2   AK          NaN\n",
       "Arizona                  4   AZ   H. Clinton\n",
       "Arkansas                 5   AR   H. Clinton\n",
       "California               6   CA   H. Clinton\n",
       "Colorado                 8   CO          NaN\n",
       "Connecticut              9   CT   H. Clinton\n",
       "Delaware                10   DE   H. Clinton\n",
       "District of Columbia    11   DC          NaN\n",
       "Florida                 12   FL   H. Clinton\n",
       "Georgia                 13   GA   H. Clinton\n",
       "Hawaii                  15   HI          NaN\n",
       "Idaho                   16   ID          NaN\n",
       "Illinois                17   IL   H. Clinton\n",
       "Indiana                 18   IN   B. Sanders\n",
       "Iowa                    19   IA          NaN\n",
       "Kansas                  20   KS          NaN\n",
       "Kentucky                21   KY          NaN\n",
       "Louisiana               22   LA   H. Clinton\n",
       "Maine                   23   ME          NaN\n",
       "Maryland                24   MD   H. Clinton\n",
       "Massachusetts           25   MA   H. Clinton\n",
       "Michigan                26   MI   B. Sanders\n",
       "Minnesota               27   MN          NaN\n",
       "Mississippi             28   MS   H. Clinton\n",
       "Missouri                29   MO   H. Clinton\n",
       "Montana                 30   MT   B. Sanders\n",
       "Nebraska                31   NE          NaN\n",
       "Nevada                  32   NV          NaN\n",
       "New Hampshire           33   NH   B. Sanders\n",
       "New Jersey              34   NJ   H. Clinton\n",
       "New Mexico              35   NM   H. Clinton\n",
       "New York                36   NY   H. Clinton\n",
       "North Carolina          37   NC   H. Clinton\n",
       "North Dakota            38   ND          NaN\n",
       "Ohio                    39   OH   H. Clinton\n",
       "Oklahoma                40   OK   B. Sanders\n",
       "Oregon                  41   OR   B. Sanders\n",
       "Pennsylvania            42   PA   H. Clinton\n",
       "Rhode Island            44   RI   B. Sanders\n",
       "South Carolina          45   SC   H. Clinton\n",
       "South Dakota            46   SD   H. Clinton\n",
       "Tennessee               47   TN   H. Clinton\n",
       "Texas                   48   TX   H. Clinton\n",
       "Utah                    49   UT          NaN\n",
       "Vermont                 50   VT   B. Sanders\n",
       "Virginia                51   VA   H. Clinton\n",
       "Washington              53   WA          NaN\n",
       "West Virginia           54   WV   B. Sanders\n",
       "Wisconsin               55   WI   B. Sanders\n",
       "Wyoming                 56   WY          NaN"
      ]
     },
     "execution_count": 18,
     "metadata": {},
     "output_type": "execute_result"
    }
   ],
   "source": [
    "dem_winner"
   ]
  },
  {
   "cell_type": "code",
   "execution_count": 19,
   "metadata": {
    "ExecuteTime": {
     "end_time": "2019-10-07T15:44:02.531431Z",
     "start_time": "2019-10-07T15:44:02.099547Z"
    },
    "cell_style": "center"
   },
   "outputs": [
    {
     "data": {
      "application/vnd.jupyter.widget-view+json": {
       "model_id": "9a639f053a354f7f87424bca49036e98",
       "version_major": 2,
       "version_minor": 0
      },
      "text/plain": [
       "Figure(axes=[ColorAxis(scale=OrdinalColorScale(colors=['#83bc5e', '#5fa0d6'], domain=['B. Sanders', 'H. Clinto…"
      ]
     },
     "metadata": {},
     "output_type": "display_data"
    }
   ],
   "source": [
    "sc_geo_dem = AlbersUSA(scale_factor=1000)\n",
    "color_dem = OrdinalColorScale(domain=['B. Sanders', 'H. Clinton'], colors=[\n",
    "                              '#83bc5e', '#5fa0d6'])\n",
    "\n",
    "map_styles_dem = {'color': dict(zip(dem_winner['FIPS'], dem_winner['winner'])),\n",
    "              'scales': {'projection': sc_geo_dem, 'color': color_dem}, 'colors': {'default_color': '#E2E2E2'}}\n",
    "axis_dem = ColorAxis(scale=color_dem)\n",
    "\n",
    "states_map_dem = Map(map_data=topo_load(\n",
    "    'map_data/USStatesMap.json'), tooltip=bar_fig_dem, **map_styles_dem)\n",
    "map_fig_dem = Figure(marks=[states_map_dem], axes=[axis_dem],\n",
    "                     title='Election Polls - Republican')\n",
    "states_map_dem.on_hover(hover_callback_dem)\n",
    "map_fig_dem"
   ]
  },
  {
   "cell_type": "markdown",
   "metadata": {},
   "source": [
    "## Visualiztion for GOP and DEM"
   ]
  },
  {
   "cell_type": "code",
   "execution_count": 20,
   "metadata": {
    "ExecuteTime": {
     "end_time": "2019-10-07T15:44:02.596239Z",
     "start_time": "2019-10-07T15:44:02.532390Z"
    }
   },
   "outputs": [
    {
     "data": {
      "application/vnd.jupyter.widget-view+json": {
       "model_id": "1876cbc833484a9b8158237409292e9a",
       "version_major": 2,
       "version_minor": 0
      },
      "text/plain": [
       "VBox(children=(Figure(axes=[ColorAxis(scale=OrdinalColorScale(colors=['#d65454', '#eabc3b', '#3ca0a0'], domain…"
      ]
     },
     "metadata": {},
     "output_type": "display_data"
    }
   ],
   "source": [
    "from ipywidgets import VBox\n",
    "\n",
    "VBox([map_fig_gop, map_fig_dem])"
   ]
  }
 ],
 "metadata": {
  "hide_input": false,
  "kernelspec": {
   "display_name": "Python 3",
   "language": "python",
   "name": "python3"
  },
  "language_info": {
   "codemirror_mode": {
    "name": "ipython",
    "version": 3
   },
   "file_extension": ".py",
   "mimetype": "text/x-python",
   "name": "python",
   "nbconvert_exporter": "python",
   "pygments_lexer": "ipython3",
   "version": "3.7.3"
  },
  "toc": {
   "base_numbering": 1,
   "nav_menu": {},
   "number_sections": true,
   "sideBar": true,
   "skip_h1_title": false,
   "title_cell": "Table of Contents",
   "title_sidebar": "Contents",
   "toc_cell": false,
   "toc_position": {},
   "toc_section_display": true,
   "toc_window_display": false
  },
  "varInspector": {
   "cols": {
    "lenName": 16,
    "lenType": 16,
    "lenVar": 40
   },
   "kernels_config": {
    "python": {
     "delete_cmd_postfix": "",
     "delete_cmd_prefix": "del ",
     "library": "var_list.py",
     "varRefreshCmd": "print(var_dic_list())"
    },
    "r": {
     "delete_cmd_postfix": ") ",
     "delete_cmd_prefix": "rm(",
     "library": "var_list.r",
     "varRefreshCmd": "cat(var_dic_list()) "
    }
   },
   "types_to_exclude": [
    "module",
    "function",
    "builtin_function_or_method",
    "instance",
    "_Feature"
   ],
   "window_display": false
  }
 },
 "nbformat": 4,
 "nbformat_minor": 2
}
