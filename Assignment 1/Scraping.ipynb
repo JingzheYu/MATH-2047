{
 "cells": [
  {
   "cell_type": "code",
   "execution_count": 1,
   "metadata": {
    "ExecuteTime": {
     "end_time": "2019-09-17T23:29:51.595767Z",
     "start_time": "2019-09-17T23:29:42.424285Z"
    }
   },
   "outputs": [],
   "source": [
    "import numpy as np\n",
    "import pandas as pd\n",
    "import requests\n",
    "import re\n",
    "from bs4 import BeautifulSoup\n",
    "from tqdm import tqdm_notebook"
   ]
  },
  {
   "cell_type": "markdown",
   "metadata": {},
   "source": [
    "## NAIC Scraping"
   ]
  },
  {
   "cell_type": "code",
   "execution_count": 2,
   "metadata": {
    "ExecuteTime": {
     "end_time": "2019-09-17T23:29:54.919187Z",
     "start_time": "2019-09-17T23:29:51.595767Z"
    }
   },
   "outputs": [],
   "source": [
    "url = 'https://classcodes.com/naics-code-list/'\n",
    "r = requests.get(url)\n",
    "\n",
    "r.raise_for_status()\n",
    "\n",
    "html = r.text"
   ]
  },
  {
   "cell_type": "code",
   "execution_count": 3,
   "metadata": {
    "ExecuteTime": {
     "end_time": "2019-09-17T23:29:55.144091Z",
     "start_time": "2019-09-17T23:29:54.919187Z"
    }
   },
   "outputs": [],
   "source": [
    "soup = BeautifulSoup(html, 'html.parser')\n",
    "p = soup.find_all('p')"
   ]
  },
  {
   "cell_type": "markdown",
   "metadata": {},
   "source": [
    "The information of SOC codes and titles is contained in the text of `<p>`："
   ]
  },
  {
   "cell_type": "code",
   "execution_count": 4,
   "metadata": {
    "ExecuteTime": {
     "end_time": "2019-09-17T23:29:55.167416Z",
     "start_time": "2019-09-17T23:29:55.144091Z"
    }
   },
   "outputs": [
    {
     "data": {
      "text/plain": [
       "['1) NAICS 111110 Soybean Farming',\n",
       " '2) NAICS 111120 Oilseed (except Soybean) Farming',\n",
       " '3) NAICS 111130 Dry Pea and Bean Farming',\n",
       " '4) NAICS 111140 Wheat Farming',\n",
       " '5) NAICS 111150 Corn Farming',\n",
       " '6) NAICS 111160 Rice Farming',\n",
       " '7) NAICS 111191 Oilseed and Grain Combination Farming',\n",
       " '8) NAICS 111199 All Other Grain Farming',\n",
       " '9) NAICS 111211 Potato Farming',\n",
       " '10) NAICS 111219 Other Vegetable (except Potato) and Melon Farming']"
      ]
     },
     "execution_count": 4,
     "metadata": {},
     "output_type": "execute_result"
    }
   ],
   "source": [
    "[x.get_text() for x in p][17:27]"
   ]
  },
  {
   "cell_type": "markdown",
   "metadata": {},
   "source": [
    "We can use regular expressions to extract the contents, and store them in naic_df:"
   ]
  },
  {
   "cell_type": "code",
   "execution_count": 5,
   "metadata": {
    "ExecuteTime": {
     "end_time": "2019-09-17T23:29:57.580459Z",
     "start_time": "2019-09-17T23:29:55.167416Z"
    }
   },
   "outputs": [
    {
     "data": {
      "application/vnd.jupyter.widget-view+json": {
       "model_id": "c585b2f660c64b668ec0dd32a9f31237",
       "version_major": 2,
       "version_minor": 0
      },
      "text/plain": [
       "HBox(children=(IntProgress(value=0, max=1117), HTML(value='')))"
      ]
     },
     "metadata": {},
     "output_type": "display_data"
    },
    {
     "name": "stdout",
     "output_type": "stream",
     "text": [
      "\n"
     ]
    }
   ],
   "source": [
    "naic_df = pd.DataFrame(columns=['NAIC Code', 'NAIC Title'])\n",
    "\n",
    "code_re = re.compile(r'NAICS \\d{6} .*')\n",
    "for item in tqdm_notebook(p):\n",
    "    try:\n",
    "        naic_result = code_re.search(item.get_text()).group()\n",
    "        naic_code = naic_result.split()[1]\n",
    "        naic_title = ' '.join(naic_result.split()[2:]).strip().replace('’','\\'')\n",
    "        naic_df = naic_df.append([{'NAIC Code':int(naic_code), 'NAIC Title':naic_title}],ignore_index=True)\n",
    "    except:\n",
    "        continue"
   ]
  },
  {
   "cell_type": "code",
   "execution_count": 13,
   "metadata": {},
   "outputs": [
    {
     "data": {
      "text/html": [
       "<div>\n",
       "<style scoped>\n",
       "    .dataframe tbody tr th:only-of-type {\n",
       "        vertical-align: middle;\n",
       "    }\n",
       "\n",
       "    .dataframe tbody tr th {\n",
       "        vertical-align: top;\n",
       "    }\n",
       "\n",
       "    .dataframe thead th {\n",
       "        text-align: right;\n",
       "    }\n",
       "</style>\n",
       "<table border=\"1\" class=\"dataframe\">\n",
       "  <thead>\n",
       "    <tr style=\"text-align: right;\">\n",
       "      <th></th>\n",
       "      <th>NAIC Code</th>\n",
       "      <th>NAIC Title</th>\n",
       "    </tr>\n",
       "  </thead>\n",
       "  <tbody>\n",
       "    <tr>\n",
       "      <th>0</th>\n",
       "      <td>111110</td>\n",
       "      <td>Soybean Farming</td>\n",
       "    </tr>\n",
       "    <tr>\n",
       "      <th>1</th>\n",
       "      <td>111120</td>\n",
       "      <td>Oilseed (except Soybean) Farming</td>\n",
       "    </tr>\n",
       "    <tr>\n",
       "      <th>2</th>\n",
       "      <td>111130</td>\n",
       "      <td>Dry Pea and Bean Farming</td>\n",
       "    </tr>\n",
       "    <tr>\n",
       "      <th>3</th>\n",
       "      <td>111140</td>\n",
       "      <td>Wheat Farming</td>\n",
       "    </tr>\n",
       "    <tr>\n",
       "      <th>4</th>\n",
       "      <td>111150</td>\n",
       "      <td>Corn Farming</td>\n",
       "    </tr>\n",
       "  </tbody>\n",
       "</table>\n",
       "</div>"
      ],
      "text/plain": [
       "  NAIC Code                        NAIC Title\n",
       "0    111110                   Soybean Farming\n",
       "1    111120  Oilseed (except Soybean) Farming\n",
       "2    111130          Dry Pea and Bean Farming\n",
       "3    111140                     Wheat Farming\n",
       "4    111150                      Corn Farming"
      ]
     },
     "execution_count": 13,
     "metadata": {},
     "output_type": "execute_result"
    }
   ],
   "source": [
    "naic_df.head()"
   ]
  },
  {
   "cell_type": "markdown",
   "metadata": {},
   "source": [
    "Now we can compare the data scraped from web with the file downloaded directly:"
   ]
  },
  {
   "cell_type": "code",
   "execution_count": 6,
   "metadata": {
    "ExecuteTime": {
     "end_time": "2019-09-17T23:29:57.937978Z",
     "start_time": "2019-09-17T23:29:57.582614Z"
    }
   },
   "outputs": [],
   "source": [
    "naic_dl_12 = pd.read_csv('dataset/6-digit_2012_Codes.csv')\n",
    "naic_dl_12.columns = naic_df.columns\n",
    "naic_dl_12.iloc[:,1] = naic_dl_12.iloc[:,1].apply(lambda x:x.strip().replace('’','\\''))"
   ]
  },
  {
   "cell_type": "markdown",
   "metadata": {},
   "source": [
    "After some naive parsing, we find that the scraping data are totally the same as the data in `6-digit_2012_Codes.csv`."
   ]
  },
  {
   "cell_type": "code",
   "execution_count": 7,
   "metadata": {
    "ExecuteTime": {
     "end_time": "2019-09-17T23:29:57.977850Z",
     "start_time": "2019-09-17T23:29:57.946605Z"
    }
   },
   "outputs": [
    {
     "data": {
      "text/plain": [
       "True"
      ]
     },
     "execution_count": 7,
     "metadata": {},
     "output_type": "execute_result"
    }
   ],
   "source": [
    "np.all(naic_df.values==naic_dl_12.values)"
   ]
  },
  {
   "cell_type": "code",
   "execution_count": 8,
   "metadata": {
    "ExecuteTime": {
     "end_time": "2019-09-17T23:29:58.106332Z",
     "start_time": "2019-09-17T23:29:57.982782Z"
    }
   },
   "outputs": [],
   "source": [
    "naic_df.to_pickle('dataset/naic.pkl')"
   ]
  },
  {
   "cell_type": "markdown",
   "metadata": {},
   "source": [
    "## SOC Scraping"
   ]
  },
  {
   "cell_type": "code",
   "execution_count": 9,
   "metadata": {
    "ExecuteTime": {
     "end_time": "2019-09-17T23:29:58.693458Z",
     "start_time": "2019-09-17T23:29:58.106332Z"
    }
   },
   "outputs": [],
   "source": [
    "url = 'https://www.bls.gov/oes/current/oes_stru.htm'\n",
    "r = requests.get(url)\n",
    "\n",
    "r.raise_for_status()\n",
    "\n",
    "html = r.text"
   ]
  },
  {
   "cell_type": "code",
   "execution_count": 10,
   "metadata": {
    "ExecuteTime": {
     "end_time": "2019-09-17T23:29:58.975258Z",
     "start_time": "2019-09-17T23:29:58.693458Z"
    }
   },
   "outputs": [],
   "source": [
    "soup = BeautifulSoup(html, 'html.parser')\n",
    "li = soup.find_all('li')"
   ]
  },
  {
   "cell_type": "markdown",
   "metadata": {},
   "source": [
    "The information of NAICS code and title is contained in the text of `<li>`："
   ]
  },
  {
   "cell_type": "markdown",
   "metadata": {},
   "source": [
    "Again, we can use regular expressions to extract the contents, and store them in soc_df:"
   ]
  },
  {
   "cell_type": "code",
   "execution_count": 11,
   "metadata": {
    "ExecuteTime": {
     "end_time": "2019-09-17T23:30:09.053197Z",
     "start_time": "2019-09-17T23:30:03.498570Z"
    }
   },
   "outputs": [
    {
     "data": {
      "application/vnd.jupyter.widget-view+json": {
       "model_id": "dbdd6e8436434150b549dfe701766aca",
       "version_major": 2,
       "version_minor": 0
      },
      "text/plain": [
       "HBox(children=(IntProgress(value=0, max=1668), HTML(value='')))"
      ]
     },
     "metadata": {},
     "output_type": "display_data"
    },
    {
     "name": "stdout",
     "output_type": "stream",
     "text": [
      "\n"
     ]
    }
   ],
   "source": [
    "soc_df = pd.DataFrame(columns=['SOC Code', 'SOC Title'])\n",
    "\n",
    "code_re = re.compile(r'\\d{2}-\\d{4}\\D+')\n",
    "for a in tqdm_notebook(li):\n",
    "    soc_result = code_re.findall(a.get_text())\n",
    "    for item in soc_result:\n",
    "        soc_code = item.split()[0]\n",
    "        soc_title = ' '.join(item.split()[1:]).strip()\n",
    "        if soc_code not in soc_df.iloc[:,0].values: # avoid duplicates\n",
    "            soc_df = soc_df.append([{'SOC Code':soc_code, 'SOC Title':soc_title}],ignore_index=True)"
   ]
  },
  {
   "cell_type": "code",
   "execution_count": 15,
   "metadata": {},
   "outputs": [
    {
     "data": {
      "text/html": [
       "<div>\n",
       "<style scoped>\n",
       "    .dataframe tbody tr th:only-of-type {\n",
       "        vertical-align: middle;\n",
       "    }\n",
       "\n",
       "    .dataframe tbody tr th {\n",
       "        vertical-align: top;\n",
       "    }\n",
       "\n",
       "    .dataframe thead th {\n",
       "        text-align: right;\n",
       "    }\n",
       "</style>\n",
       "<table border=\"1\" class=\"dataframe\">\n",
       "  <thead>\n",
       "    <tr style=\"text-align: right;\">\n",
       "      <th></th>\n",
       "      <th>SOC Code</th>\n",
       "      <th>SOC Title</th>\n",
       "    </tr>\n",
       "  </thead>\n",
       "  <tbody>\n",
       "    <tr>\n",
       "      <th>0</th>\n",
       "      <td>00-0000</td>\n",
       "      <td>All Occupations</td>\n",
       "    </tr>\n",
       "    <tr>\n",
       "      <th>1</th>\n",
       "      <td>11-0000</td>\n",
       "      <td>Management Occupations</td>\n",
       "    </tr>\n",
       "    <tr>\n",
       "      <th>2</th>\n",
       "      <td>13-0000</td>\n",
       "      <td>Business and Financial Operations Occupations</td>\n",
       "    </tr>\n",
       "    <tr>\n",
       "      <th>3</th>\n",
       "      <td>15-0000</td>\n",
       "      <td>Computer and Mathematical Occupations</td>\n",
       "    </tr>\n",
       "    <tr>\n",
       "      <th>4</th>\n",
       "      <td>17-0000</td>\n",
       "      <td>Architecture and Engineering Occupations</td>\n",
       "    </tr>\n",
       "  </tbody>\n",
       "</table>\n",
       "</div>"
      ],
      "text/plain": [
       "  SOC Code                                      SOC Title\n",
       "0  00-0000                                All Occupations\n",
       "1  11-0000                         Management Occupations\n",
       "2  13-0000  Business and Financial Operations Occupations\n",
       "3  15-0000          Computer and Mathematical Occupations\n",
       "4  17-0000       Architecture and Engineering Occupations"
      ]
     },
     "execution_count": 15,
     "metadata": {},
     "output_type": "execute_result"
    }
   ],
   "source": [
    "soc_df.head()"
   ]
  },
  {
   "cell_type": "code",
   "execution_count": 12,
   "metadata": {
    "ExecuteTime": {
     "end_time": "2019-09-17T23:30:09.173152Z",
     "start_time": "2019-09-17T23:30:09.053197Z"
    },
    "cell_style": "center"
   },
   "outputs": [],
   "source": [
    "soc_df.to_pickle('dataset/soc.pkl')"
   ]
  }
 ],
 "metadata": {
  "hide_input": false,
  "kernelspec": {
   "display_name": "Python 3",
   "language": "python",
   "name": "python3"
  },
  "language_info": {
   "codemirror_mode": {
    "name": "ipython",
    "version": 3
   },
   "file_extension": ".py",
   "mimetype": "text/x-python",
   "name": "python",
   "nbconvert_exporter": "python",
   "pygments_lexer": "ipython3",
   "version": "3.7.3"
  },
  "toc": {
   "base_numbering": 1,
   "nav_menu": {},
   "number_sections": true,
   "sideBar": true,
   "skip_h1_title": false,
   "title_cell": "Table of Contents",
   "title_sidebar": "Contents",
   "toc_cell": false,
   "toc_position": {},
   "toc_section_display": true,
   "toc_window_display": false
  },
  "varInspector": {
   "cols": {
    "lenName": 16,
    "lenType": 16,
    "lenVar": 40
   },
   "kernels_config": {
    "python": {
     "delete_cmd_postfix": "",
     "delete_cmd_prefix": "del ",
     "library": "var_list.py",
     "varRefreshCmd": "print(var_dic_list())"
    },
    "r": {
     "delete_cmd_postfix": ") ",
     "delete_cmd_prefix": "rm(",
     "library": "var_list.r",
     "varRefreshCmd": "cat(var_dic_list()) "
    }
   },
   "types_to_exclude": [
    "module",
    "function",
    "builtin_function_or_method",
    "instance",
    "_Feature"
   ],
   "window_display": false
  }
 },
 "nbformat": 4,
 "nbformat_minor": 2
}
